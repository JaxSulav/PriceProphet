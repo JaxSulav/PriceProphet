{
 "cells": [
  {
   "cell_type": "code",
   "execution_count": 879,
   "metadata": {},
   "outputs": [],
   "source": [
    "import pandas as pd\n",
    "import numpy as np\n",
    "import matplotlib.pyplot as plt\n",
    "from sklearn.ensemble import RandomForestRegressor\n",
    "from sklearn.preprocessing import OrdinalEncoder\n",
    "from category_encoders import TargetEncoder\n",
    "from sklearn.model_selection import cross_val_score, train_test_split\n",
    "from sklearn.metrics import mean_squared_error, mean_squared_log_error\n",
    "from sklearn.feature_extraction.text import TfidfVectorizer\n",
    "from sklearn.cluster import KMeans\n",
    "from xgboost import XGBRegressor\n",
    "from sklearn.linear_model import LinearRegression\n",
    "from sklearn.ensemble import GradientBoostingRegressor\n",
    "from sklearn.tree import DecisionTreeRegressor\n"
   ]
  },
  {
   "cell_type": "code",
   "execution_count": 880,
   "metadata": {},
   "outputs": [
    {
     "data": {
      "text/html": [
       "<div>\n",
       "<style scoped>\n",
       "    .dataframe tbody tr th:only-of-type {\n",
       "        vertical-align: middle;\n",
       "    }\n",
       "\n",
       "    .dataframe tbody tr th {\n",
       "        vertical-align: top;\n",
       "    }\n",
       "\n",
       "    .dataframe thead th {\n",
       "        text-align: right;\n",
       "    }\n",
       "</style>\n",
       "<table border=\"1\" class=\"dataframe\">\n",
       "  <thead>\n",
       "    <tr style=\"text-align: right;\">\n",
       "      <th></th>\n",
       "      <th>name</th>\n",
       "      <th>price</th>\n",
       "      <th>brand</th>\n",
       "      <th>item_condition</th>\n",
       "      <th>shipping</th>\n",
       "      <th>located_in</th>\n",
       "      <th>return_policy</th>\n",
       "      <th>category</th>\n",
       "      <th>money_back</th>\n",
       "      <th>seller_item_sold</th>\n",
       "      <th>trending</th>\n",
       "      <th>price_log</th>\n",
       "      <th>price_boxcox</th>\n",
       "    </tr>\n",
       "  </thead>\n",
       "  <tbody>\n",
       "    <tr>\n",
       "      <th>0</th>\n",
       "      <td>43</td>\n",
       "      <td>14.48</td>\n",
       "      <td>3.360062</td>\n",
       "      <td>3.346548</td>\n",
       "      <td>1.0</td>\n",
       "      <td>3.272318</td>\n",
       "      <td>1</td>\n",
       "      <td>23</td>\n",
       "      <td>1</td>\n",
       "      <td>203000.0</td>\n",
       "      <td>1</td>\n",
       "      <td>2.739549</td>\n",
       "      <td>3.488990</td>\n",
       "    </tr>\n",
       "    <tr>\n",
       "      <th>1</th>\n",
       "      <td>2</td>\n",
       "      <td>29.19</td>\n",
       "      <td>3.770229</td>\n",
       "      <td>3.346548</td>\n",
       "      <td>1.0</td>\n",
       "      <td>3.893614</td>\n",
       "      <td>1</td>\n",
       "      <td>63</td>\n",
       "      <td>1</td>\n",
       "      <td>49000.0</td>\n",
       "      <td>1</td>\n",
       "      <td>3.407511</td>\n",
       "      <td>4.739931</td>\n",
       "    </tr>\n",
       "    <tr>\n",
       "      <th>2</th>\n",
       "      <td>3</td>\n",
       "      <td>15.89</td>\n",
       "      <td>3.694664</td>\n",
       "      <td>3.346548</td>\n",
       "      <td>1.0</td>\n",
       "      <td>3.893614</td>\n",
       "      <td>1</td>\n",
       "      <td>74</td>\n",
       "      <td>1</td>\n",
       "      <td>207000.0</td>\n",
       "      <td>1</td>\n",
       "      <td>2.826722</td>\n",
       "      <td>3.645312</td>\n",
       "    </tr>\n",
       "    <tr>\n",
       "      <th>3</th>\n",
       "      <td>1</td>\n",
       "      <td>33.23</td>\n",
       "      <td>3.786570</td>\n",
       "      <td>4.136576</td>\n",
       "      <td>1.0</td>\n",
       "      <td>3.893614</td>\n",
       "      <td>1</td>\n",
       "      <td>167</td>\n",
       "      <td>1</td>\n",
       "      <td>49000.0</td>\n",
       "      <td>1</td>\n",
       "      <td>3.533102</td>\n",
       "      <td>4.990177</td>\n",
       "    </tr>\n",
       "    <tr>\n",
       "      <th>4</th>\n",
       "      <td>49</td>\n",
       "      <td>15.81</td>\n",
       "      <td>3.750213</td>\n",
       "      <td>3.890525</td>\n",
       "      <td>1.0</td>\n",
       "      <td>3.893614</td>\n",
       "      <td>1</td>\n",
       "      <td>339</td>\n",
       "      <td>1</td>\n",
       "      <td>326000.0</td>\n",
       "      <td>0</td>\n",
       "      <td>2.821974</td>\n",
       "      <td>3.636750</td>\n",
       "    </tr>\n",
       "  </tbody>\n",
       "</table>\n",
       "</div>"
      ],
      "text/plain": [
       "   name  price     brand  item_condition  shipping  located_in  return_policy   \n",
       "0    43  14.48  3.360062        3.346548       1.0    3.272318              1  \\\n",
       "1     2  29.19  3.770229        3.346548       1.0    3.893614              1   \n",
       "2     3  15.89  3.694664        3.346548       1.0    3.893614              1   \n",
       "3     1  33.23  3.786570        4.136576       1.0    3.893614              1   \n",
       "4    49  15.81  3.750213        3.890525       1.0    3.893614              1   \n",
       "\n",
       "   category  money_back  seller_item_sold  trending  price_log  price_boxcox  \n",
       "0        23           1          203000.0         1   2.739549      3.488990  \n",
       "1        63           1           49000.0         1   3.407511      4.739931  \n",
       "2        74           1          207000.0         1   2.826722      3.645312  \n",
       "3       167           1           49000.0         1   3.533102      4.990177  \n",
       "4       339           1          326000.0         0   2.821974      3.636750  "
      ]
     },
     "execution_count": 880,
     "metadata": {},
     "output_type": "execute_result"
    }
   ],
   "source": [
    "data_path = \"./data/lot42_vectorized.csv\"\n",
    "df = pd.read_csv(data_path)\n",
    "df.head(5)"
   ]
  },
  {
   "cell_type": "code",
   "execution_count": 881,
   "metadata": {},
   "outputs": [
    {
     "data": {
      "text/plain": [
       "190.15"
      ]
     },
     "execution_count": 881,
     "metadata": {},
     "output_type": "execute_result"
    }
   ],
   "source": [
    "df.shape\n",
    "df[\"price\"].max()"
   ]
  },
  {
   "cell_type": "code",
   "execution_count": 882,
   "metadata": {},
   "outputs": [],
   "source": [
    "X = df.drop(['price', 'price_log', 'price_boxcox'], axis=1)\n",
    "y = df['price_log']"
   ]
  },
  {
   "cell_type": "code",
   "execution_count": 895,
   "metadata": {},
   "outputs": [
    {
     "name": "stdout",
     "output_type": "stream",
     "text": [
      "Random Forest: [-0.20554655 -0.20098906 -0.20325429 -0.21073819 -0.21327445]\n",
      "Gradient Boosting: [-0.18949392 -0.1825316  -0.19019264 -0.18829721 -0.20048785]\n",
      "XG Boost: [-0.20684124 -0.19667603 -0.20105978 -0.20276344 -0.21463628]\n",
      "Linear Regression: [-0.32286777 -0.30628199 -0.31049213 -0.31963723 -0.33519343]\n",
      "Decision Tree: [-0.32694136 -0.34127407 -0.35508836 -0.35086763 -0.33989758]\n"
     ]
    }
   ],
   "source": [
    "def calculate_cv_scores(models):\n",
    "    scores = dict()\n",
    "    for name, model in models:\n",
    "       scores[name] = cross_val_score(model, X_train, \n",
    "            y_train, cv=5, scoring='neg_mean_squared_error') \n",
    "    return scores\n",
    "\n",
    "X_train, X_test, y_train, y_test = train_test_split(X, y, \n",
    "            test_size=0.2, random_state=42)\n",
    "model_rf = RandomForestRegressor(n_estimators = 100, \n",
    "            random_state=42)\n",
    "model_gb = GradientBoostingRegressor(alpha=0.95, \n",
    "            learning_rate=0.1, loss=\"huber\", max_depth=9, \n",
    "            max_features=0.8500000000000001, min_samples_leaf=10, \n",
    "            min_samples_split=18, n_estimators=100, \n",
    "            subsample=0.9000000000000001)\n",
    "model_xg = XGBRegressor(n_estimators=100, learning_rate=0.1, \n",
    "            max_depth=5, subsample=0.8, random_state=42)\n",
    "model_lr = LinearRegression()\n",
    "\n",
    "models = [\n",
    "    ('Random Forest', model_rf),\n",
    "    ('Gradient Boosting', model_gb),\n",
    "    ('XG Boost', model_xg),\n",
    "    ('Linear Regression', model_lr),\n",
    "]\n",
    "scores = calculate_cv_scores(models)\n",
    "for key, value in scores.items():\n",
    "    print(f'{key}: {value}')"
   ]
  },
  {
   "cell_type": "code",
   "execution_count": 884,
   "metadata": {},
   "outputs": [],
   "source": [
    "# from sklearn.model_selection import GridSearchCV\n",
    "\n",
    "# param_grid = {\n",
    "#     'n_estimators': [80, 100, 120],\n",
    "#     'learning_rate': [0.05, 0.1, 0.15],\n",
    "#     'max_depth': [7, 9, 11],\n",
    "#     'min_samples_split': [16, 18, 20],\n",
    "#     'min_samples_leaf': [8, 10, 12],\n",
    "#     'max_features': [0.75, 0.85, 0.95],\n",
    "#     'subsample': [0.85, 0.9, 0.95],\n",
    "# }\n",
    "\n",
    "# grid_search = GridSearchCV(model_gb, param_grid, cv=5, scoring='neg_mean_squared_error')\n",
    "# grid_search.fit(X_train, y_train)\n",
    "\n",
    "# print(f'Best parameters: {grid_search.best_params_}')\n",
    "# print(f'Best score: {grid_search.best_score_}')"
   ]
  },
  {
   "cell_type": "code",
   "execution_count": 885,
   "metadata": {},
   "outputs": [],
   "source": [
    "# # Get the best parameters\n",
    "# best_params = grid_search.best_params_\n",
    "\n",
    "# # Create a new model with the best parameters\n",
    "# model_gb = GradientBoostingRegressor(**best_params)\n",
    "\n",
    "# # Train the model\n",
    "# model_gb.fit(X_train, y_train)"
   ]
  },
  {
   "cell_type": "code",
   "execution_count": 886,
   "metadata": {},
   "outputs": [],
   "source": [
    "def train_test(models):\n",
    "    scores_log = dict()\n",
    "    scores_actual = dict()\n",
    "    actual_vs_predicted = dict()\n",
    "    for name, model in models:\n",
    "        model.fit(X_train, y_train)\n",
    "        y_pred = model.predict(X_test)\n",
    "        test_rmsle = np.sqrt(mean_squared_log_error(y_test, y_pred))\n",
    "        scores_log[name] = test_rmsle\n",
    "        actual_vs_predicted[name] = list(zip(y_test[:10], y_pred[:10], np.expm1(y_test[:10]), np.expm1(y_pred[:10])))\n",
    "        y_test_actual = np.expm1(y_test)\n",
    "        y_pred_actual = np.expm1(y_pred)\n",
    "       \n",
    "        test_rmsle_actual = np.sqrt(mean_squared_log_error(y_test_actual, y_pred_actual))\n",
    "        scores_actual[name] = test_rmsle_actual\n",
    "    return scores_log, scores_actual, actual_vs_predicted"
   ]
  },
  {
   "cell_type": "code",
   "execution_count": 894,
   "metadata": {},
   "outputs": [
    {
     "name": "stdout",
     "output_type": "stream",
     "text": [
      "SCORING FOR LOGGED PRICE:\n",
      "Random Forest: 0.10155678614015011\n",
      "Gradient Boosting: 0.09917262638479557\n",
      "XG Boost: 0.1033098267075964\n",
      "Linear Regression: 0.12707003457317223\n",
      "\n",
      "\n",
      "SCORING FOR ACTUAL PRICE:\n",
      "Random Forest: 0.44460984593134084\n",
      "Gradient Boosting: 0.4275538697061751\n",
      "XG Boost: 0.447464344095693\n",
      "Linear Regression: 0.5664374620743207\n",
      "   Actual Log  Predicted Log  Actual Price  Predicted Price\n",
      "0    3.991389       4.019068         53.13        54.649216\n",
      "1    5.078668       4.997543        159.56       147.048944\n",
      "2    5.150629       4.894355        171.54       132.533855\n",
      "3    3.400197       3.315847         28.97        26.545710\n",
      "4    4.051437       4.249632         56.48        69.079645\n",
      "5    2.325325       2.778543          9.23        15.095550\n",
      "6    2.829678       2.630095         15.94        12.875083\n",
      "7    4.374750       4.308196         78.42        73.306335\n",
      "8    3.480932       3.452671         31.49        30.584649\n",
      "9    2.747912       2.797132         14.61        15.397549\n"
     ]
    }
   ],
   "source": [
    "log_scores, actual_scores, a = train_test(models)\n",
    "df = pd.DataFrame(a[\"Gradient Boosting\"], columns=['Actual Log', 'Predicted Log', \"Actual Price\", \"Predicted Price\"])\n",
    "\n",
    "print(\"SCORING FOR LOGGED PRICE:\")\n",
    "for k, v in log_scores.items():\n",
    "    print(f'{k}: {v}')\n",
    "print(\"\\n\")\n",
    "print(\"SCORING FOR ACTUAL PRICE:\")\n",
    "for k, v in actual_scores.items():\n",
    "    print(f'{k}: {v}')\n",
    "\n",
    "print(df.head(10))"
   ]
  },
  {
   "cell_type": "code",
   "execution_count": null,
   "metadata": {},
   "outputs": [],
   "source": []
  }
 ],
 "metadata": {
  "kernelspec": {
   "display_name": "env",
   "language": "python",
   "name": "python3"
  },
  "language_info": {
   "codemirror_mode": {
    "name": "ipython",
    "version": 3
   },
   "file_extension": ".py",
   "mimetype": "text/x-python",
   "name": "python",
   "nbconvert_exporter": "python",
   "pygments_lexer": "ipython3",
   "version": "3.9.13"
  },
  "orig_nbformat": 4
 },
 "nbformat": 4,
 "nbformat_minor": 2
}
