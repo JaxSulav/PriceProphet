{
 "cells": [
  {
   "cell_type": "code",
   "execution_count": 1,
   "metadata": {},
   "outputs": [
    {
     "ename": "",
     "evalue": "",
     "output_type": "error",
     "traceback": [
      "\u001b[1;31mCannot execute code, session has been disposed. Please try restarting the Kernel."
     ]
    },
    {
     "ename": "",
     "evalue": "",
     "output_type": "error",
     "traceback": [
      "\u001b[1;31mThe Kernel crashed while executing code in the the current cell or a previous cell. Please review the code in the cell(s) to identify a possible cause of the failure. Click <a href='https://aka.ms/vscodeJupyterKernelCrash'>here</a> for more info. View Jupyter <a href='command:jupyter.viewOutput'>log</a> for further details."
     ]
    }
   ],
   "source": [
    "import pandas as pd\n",
    "import numpy as np\n",
    "from sklearn.model_selection import train_test_split\n",
    "from sklearn.preprocessing import StandardScaler\n",
    "from sklearn.neural_network import MLPRegressor\n",
    "from sklearn.metrics import mean_squared_log_error\n",
    "from sparseml.pytorch.optim import ScheduledModifierManager, ScheduledUpdateModifier\n",
    "from sparseml.pytorch.optim.optimizer import ScheduledOptimizer\n",
    "\n",
    "# Load the data\n",
    "df = pd.read_csv('./data/lot42_train.csv')\n",
    "\n",
    "# Drop 'price' and 'price_boxcox' columns\n",
    "df = df.drop(['price', 'price_boxcox'], axis=1)\n",
    "\n",
    "# Define the feature set and the target\n",
    "X = df[['brand', 'return_policy', 'shipping', 'trending', 'name', 'category', 'seller_item_sold']]\n",
    "y = df['price_log']\n",
    "\n",
    "# Split the data into training and testing sets\n",
    "X_train, X_test, y_train, y_test = train_test_split(X, y, test_size=0.2, random_state=42)\n",
    "\n",
    "# Standardize the features\n",
    "scaler = StandardScaler()\n",
    "X_train = scaler.fit_transform(X_train)\n",
    "X_test = scaler.transform(X_test)\n",
    "\n",
    "# Initialize the MLP regressor\n",
    "mlp = MLPRegressor(hidden_layer_sizes=(50,), max_iter=100, alpha=1e-4,\n",
    "                   solver='sgd', verbose=10, random_state=42,\n",
    "                   learning_rate_init=.1)\n",
    "\n",
    "# Create a SparseML modifier manager with a sparsity update schedule\n",
    "manager = ScheduledModifierManager([\n",
    "    ScheduledUpdateModifier(start_epoch=0, end_epoch=10, update_frequency=1, log_types=[\"sparsity\"]),\n",
    "])\n",
    "\n",
    "# Create a SparseML optimizer that will handle applying the sparse modifications\n",
    "optimizer = ScheduledOptimizer(\n",
    "    mlp.optimizer, mlp.parameters(), manager, steps_per_epoch=len(X_train),\n",
    ")\n",
    "\n",
    "# Train the model\n",
    "mlp.fit(X_train, y_train)\n",
    "\n",
    "# Make predictions on the testing set\n",
    "y_pred = mlp.predict(X_test)\n",
    "\n",
    "# Ensure all predicted values are greater than 0 (as RMSLE is undefined for negative values)\n",
    "y_pred = np.maximum(y_pred, 0)\n",
    "\n",
    "# Calculate RMSLE\n",
    "rmsle = np.sqrt(mean_squared_log_error(y_test, y_pred))\n",
    "\n",
    "print(f'RMSLE: {rmsle}')\n"
   ]
  },
  {
   "cell_type": "code",
   "execution_count": null,
   "metadata": {},
   "outputs": [],
   "source": []
  }
 ],
 "metadata": {
  "kernelspec": {
   "display_name": "env",
   "language": "python",
   "name": "python3"
  },
  "language_info": {
   "codemirror_mode": {
    "name": "ipython",
    "version": 3
   },
   "file_extension": ".py",
   "mimetype": "text/x-python",
   "name": "python",
   "nbconvert_exporter": "python",
   "pygments_lexer": "ipython3",
   "version": "3.9.13"
  },
  "orig_nbformat": 4
 },
 "nbformat": 4,
 "nbformat_minor": 2
}
